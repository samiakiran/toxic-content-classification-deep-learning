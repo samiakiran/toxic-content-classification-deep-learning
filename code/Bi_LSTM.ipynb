{
  "cells": [
    {
      "metadata": {
        "trusted": true,
        "id": "76p2snt2-r77"
      },
      "cell_type": "code",
      "source": [
        "!unzip -o '/kaggle/input/jigsaw-toxic-comment-classification-challenge/*.zip' -d /kaggle/working > /dev/null"
      ],
      "execution_count": null,
      "outputs": []
    },
    {
      "metadata": {
        "_uuid": "8f2839f25d086af736a60e9eeb907d3b93b6e0e5",
        "_cell_guid": "b1076dfc-b9ad-4769-8c92-a6c4dae69d19",
        "trusted": true,
        "id": "fOtR3Yh6-r8J"
      },
      "cell_type": "code",
      "source": [
        "# This Python 3 environment comes with many helpful analytics libraries installed\n",
        "# It is defined by the kaggle/python docker image: https://github.com/kaggle/docker-python\n",
        "# For example, here's several helpful packages to load in \n",
        "\n",
        "import numpy as np # linear algebra\n",
        "import pandas as pd # data processing, CSV file I/O (e.g. pd.read_csv)\n",
        "\n",
        "# Input data files are available in the \"../input/\" directory.\n",
        "# For example, running this (by clicking run or pressing Shift+Enter) will list the files in the input directory\n",
        "\n",
        "import os\n",
        "from keras.layers import Dense,Input,LSTM,Bidirectional,Activation,Conv1D,GRU\n",
        "from keras.callbacks import Callback\n",
        "from keras.layers import Dropout,Embedding,GlobalMaxPooling1D, MaxPooling1D, Add, Flatten\n",
        "from keras.preprocessing import text, sequence\n",
        "from keras.layers import GlobalAveragePooling1D, GlobalMaxPooling1D, concatenate, SpatialDropout1D\n",
        "from keras import initializers, regularizers, constraints, optimizers, layers, callbacks\n",
        "from keras.callbacks import EarlyStopping,ModelCheckpoint\n",
        "from keras.models import Model\n",
        "from keras.optimizers import Adam\n",
        "from sklearn.model_selection import train_test_split\n",
        "from sklearn.metrics import accuracy_score\n",
        "from sklearn.metrics import roc_auc_score\n",
        "print(os.listdir(\"../input\"))\n",
        "\n",
        "# Any results you write to the current directory are saved as output."
      ],
      "execution_count": null,
      "outputs": []
    },
    {
      "metadata": {
        "_uuid": "d629ff2d2480ee46fbb7e2d37f6b5fab8052498a",
        "_cell_guid": "79c7e3d0-c299-4dcb-8224-4455121ee9b0",
        "trusted": true,
        "id": "3DcV16US-r8L"
      },
      "cell_type": "code",
      "source": [
        "EMBEDDING_FILE = '../input/glove840b300dtxt/glove.840B.300d.txt'\n",
        "train = pd.read_csv('train.csv')\n",
        "test = pd.read_csv('test.csv')"
      ],
      "execution_count": null,
      "outputs": []
    },
    {
      "metadata": {
        "_uuid": "cf43ac37cbd14d8baa088648c2275123550135d6",
        "_cell_guid": "e8bd3575-f711-4ca6-a653-8ec1c74c0204",
        "trusted": true,
        "id": "t4psxlqN-r8M"
      },
      "cell_type": "code",
      "source": [
        "train[\"comment_text\"].fillna(\"fillna\")\n",
        "test[\"comment_text\"].fillna(\"fillna\")\n",
        "X_train = train[\"comment_text\"].str.lower()\n",
        "y_train = train[[\"toxic\", \"severe_toxic\", \"obscene\", \"threat\", \"insult\", \"identity_hate\"]].values\n",
        "\n",
        "X_test = test[\"comment_text\"].str.lower()"
      ],
      "execution_count": null,
      "outputs": []
    },
    {
      "metadata": {
        "_uuid": "efad6a0ecd758a759f14287a69bfd9cafa8c8fb2",
        "_cell_guid": "da409613-3688-4d2e-a072-f67dee02617b",
        "trusted": true,
        "id": "6GxA0LVr-r8N"
      },
      "cell_type": "code",
      "source": [
        "max_features=20000\n",
        "maxlen=200\n",
        "embed_size=300"
      ],
      "execution_count": null,
      "outputs": []
    },
    {
      "metadata": {
        "_uuid": "70c576f3b0afd3e779df184f788107fb51233424",
        "_cell_guid": "3b0804b5-d64e-474e-8252-78daa4a4be62",
        "trusted": true,
        "id": "nF9xKQHM-r8O"
      },
      "cell_type": "code",
      "source": [
        "class RocAucEvaluation(Callback):\n",
        "    def __init__(self, validation_data=(), interval=1):\n",
        "        super(Callback, self).__init__()\n",
        "\n",
        "        self.interval = interval\n",
        "        self.X_val, self.y_val = validation_data\n",
        "\n",
        "    def on_epoch_end(self, epoch, logs={}):\n",
        "        if epoch % self.interval == 0:\n",
        "            y_pred = self.model.predict(self.X_val, verbose=0)\n",
        "            score = roc_auc_score(self.y_val, y_pred)\n",
        "            print(\"\\n ROC-AUC - epoch: {:d} - score: {:.6f}\".format(epoch+1, score))"
      ],
      "execution_count": null,
      "outputs": []
    },
    {
      "metadata": {
        "_uuid": "b07e998ccedaf3aaaf4b4e67b207ad5490eb24f7",
        "_cell_guid": "7a665c08-b4a9-4792-b40b-481b3da907e5",
        "trusted": true,
        "id": "ESBZMknt-r8Z"
      },
      "cell_type": "code",
      "source": [
        "tok=text.Tokenizer(num_words=max_features,lower=True)\n",
        "tok.fit_on_texts(list(X_train)+list(X_test))\n",
        "X_train=tok.texts_to_sequences(X_train)\n",
        "X_test=tok.texts_to_sequences(X_test)\n",
        "x_train=sequence.pad_sequences(X_train,maxlen=maxlen)\n",
        "x_test=sequence.pad_sequences(X_test,maxlen=maxlen)"
      ],
      "execution_count": null,
      "outputs": []
    },
    {
      "metadata": {
        "_uuid": "9488bc9d68dfd1fde1f99d23a9f1ed7b30ceb87f",
        "_cell_guid": "9e57a7cb-c061-4361-bbe2-05c0486a3f18",
        "trusted": true,
        "id": "K4FMnDKP-r8a"
      },
      "cell_type": "code",
      "source": [
        "embeddings_index = {}\n",
        "with open(EMBEDDING_FILE,encoding='utf8') as f:\n",
        "    for line in f:\n",
        "        values = line.rstrip().rsplit(' ')\n",
        "        word = values[0]\n",
        "        coefs = np.asarray(values[1:], dtype='float32')\n",
        "        embeddings_index[word] = coefs\n"
      ],
      "execution_count": null,
      "outputs": []
    },
    {
      "metadata": {
        "_uuid": "d56ad119931a971b2588355deb726a045764c9ad",
        "_cell_guid": "e2490100-fc9c-4e46-ae84-7dfa65fcddba",
        "trusted": true,
        "id": "P0Ns46Ng-r8a"
      },
      "cell_type": "code",
      "source": [
        "word_index = tok.word_index\n",
        "#prepare embedding matrix\n",
        "num_words = min(max_features, len(word_index) + 1)\n",
        "embedding_matrix = np.zeros((num_words, embed_size))\n",
        "for word, i in word_index.items():\n",
        "    if i >= max_features:\n",
        "        continue\n",
        "    embedding_vector = embeddings_index.get(word)\n",
        "    if embedding_vector is not None:\n",
        "        # words not found in embedding index will be all-zeros.\n",
        "        embedding_matrix[i] = embedding_vector"
      ],
      "execution_count": null,
      "outputs": []
    },
    {
      "metadata": {
        "_uuid": "560d3faac051bbb95dae6f1bf7013d52b404533c",
        "_cell_guid": "1a4a1cf3-7faf-4ee4-a72e-a258169778a5",
        "trusted": true,
        "id": "c8173l8W-r8b"
      },
      "cell_type": "code",
      "source": [
        "sequence_input = Input(shape=(maxlen, ))\n",
        "x = Embedding(max_features, embed_size, weights=[embedding_matrix],trainable = False)(sequence_input)\n",
        "x = Bidirectional(LSTM(128, return_sequences=True,dropout=0.1,recurrent_dropout=0.1))(x)\n",
        "x = GlobalAveragePooling1D()(x)\n",
        "preds = Dense(6, activation=\"sigmoid\")(x)\n",
        "model = Model(sequence_input, preds)\n",
        "model.compile(loss='binary_crossentropy',optimizer=Adam(lr=1e-3),metrics=['accuracy'])"
      ],
      "execution_count": null,
      "outputs": []
    },
    {
      "metadata": {
        "_uuid": "19975febdf6a0bd3077d8a92da13bb433085ce80",
        "_cell_guid": "46df26aa-adcd-4b2c-8644-76a1e51df2bc",
        "trusted": true,
        "id": "HLb03PAJ-r8c"
      },
      "cell_type": "code",
      "source": [
        "batch_size = 128\n",
        "epochs = 2\n",
        "X_tra, X_val, y_tra, y_val = train_test_split(x_train, y_train, train_size=0.9, random_state=233)"
      ],
      "execution_count": null,
      "outputs": []
    },
    {
      "metadata": {
        "_uuid": "7956b05d34604689b7a10d56a61640091559eda2",
        "_cell_guid": "e1962822-5dfb-4249-a714-ce95346150d4",
        "trusted": true,
        "id": "NK6ZfS6Q-r8d"
      },
      "cell_type": "code",
      "source": [
        "# filepath=\"../input/best-model/best.hdf5\"\n",
        "filepath=\"weights_base.best.hdf5\"\n",
        "checkpoint = ModelCheckpoint(filepath, monitor='val_acc', verbose=1, save_best_only=True, mode='max')\n",
        "early = EarlyStopping(monitor=\"val_acc\", mode=\"max\", patience=5)\n",
        "ra_val = RocAucEvaluation(validation_data=(X_val, y_val), interval = 1)\n",
        "callbacks_list = [ra_val,checkpoint, early]"
      ],
      "execution_count": null,
      "outputs": []
    },
    {
      "metadata": {
        "_uuid": "f7377e50952ffb6cc14bab3b34442788864eed68",
        "scrolled": false,
        "_cell_guid": "265115a8-296e-4b67-a6fc-02d0a584b501",
        "trusted": true,
        "id": "NEvdsisI-r8d"
      },
      "cell_type": "code",
      "source": [
        "model.fit(X_tra, y_tra, batch_size=batch_size, epochs=epochs, validation_data=(X_val, y_val),callbacks = callbacks_list,verbose=1)\n",
        "#Loading model weights\n",
        "model.load_weights(filepath)\n",
        "print('Predicting....')\n",
        "y_pred = model.predict(x_test,batch_size=1024,verbose=1)"
      ],
      "execution_count": null,
      "outputs": []
    }
  ],
  "metadata": {
    "kernelspec": {
      "language": "python",
      "display_name": "Python 3",
      "name": "python3"
    },
    "language_info": {
      "pygments_lexer": "ipython3",
      "nbconvert_exporter": "python",
      "version": "3.6.4",
      "file_extension": ".py",
      "codemirror_mode": {
        "name": "ipython",
        "version": 3
      },
      "name": "python",
      "mimetype": "text/x-python"
    },
    "colab": {
      "provenance": []
    }
  },
  "nbformat": 4,
  "nbformat_minor": 0
}